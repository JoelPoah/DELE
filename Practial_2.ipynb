{
 "cells": [
  {
   "cell_type": "code",
   "execution_count": null,
   "id": "32596ef6",
   "metadata": {},
   "outputs": [],
   "source": [
    "# conda install tensorflow"
   ]
  },
  {
   "cell_type": "code",
   "execution_count": 2,
   "id": "9804e8d9",
   "metadata": {},
   "outputs": [],
   "source": [
    "%tensorflow_version 1.x\n",
    "# The above magic forces google colab to load only the TF 1.x\n",
    "# TensorFlow Hello World\n",
    "# The code below will not work with TF 2.X because of\n",
    "# eager execution in TF 2.X is not compatible with TF 1.x\n",
    "import tensorflow as tf\n",
    "sess = tf.Session()\n",
    "a = tf.constant(10)\n",
    "b = tf.constant(32)\n",
    "print(sess.run(a+b))"
   ]
  },
  {
   "cell_type": "code",
   "execution_count": 3,
   "id": "6874f6c3",
   "metadata": {},
   "outputs": [],
   "source": [
    "# # TensorFlow Hello World\n",
    "# # Forcing the TF 2.X library to work in TF 1.X compatibility mode\n",
    "# import tensorflow as tf\n",
    "# tf.compat.v1.disable_eager_execution() # need to disable eager in TF2.x\n",
    "# import tensorflow.compat.v1 as tf\n",
    "# sess = tf.Session()\n",
    "# a = tf.constant(10)\n",
    "# b = tf.constant(32)\n",
    "# print(sess.run(a+b))"
   ]
  },
  {
   "cell_type": "code",
   "execution_count": 4,
   "id": "09e42a1a",
   "metadata": {},
   "outputs": [],
   "source": [
    "# # TensorFlow Hello World\n",
    "# import tensorflow as tf\n",
    "# #sess = tf.Session() # This is only needed for TF 1.X\n",
    "# # Computational Graph to be compiled and then run using the session\n",
    "# a = tf.constant(10)\n",
    "# b = tf.constant(32)\n",
    "# # print(sess.run(a+b)) # Not session.run not needed in TF2.X\n",
    "# # In TF2.X eager execution compiles the computation graph in the background\n",
    "# print(a+b) # TF 2.X is more direct. Just write a+b"
   ]
  },
  {
   "cell_type": "code",
   "execution_count": 5,
   "id": "2782411c",
   "metadata": {},
   "outputs": [],
   "source": [
    "# pip install keras"
   ]
  },
  {
   "cell_type": "code",
   "execution_count": 6,
   "id": "61f990ae",
   "metadata": {},
   "outputs": [],
   "source": [
    "# Keras Hello World\n",
    "from keras.models import Sequential\n",
    "from keras.layers import Dense\n",
    "# create model\n",
    "model = Sequential()\n",
    "model.add(Dense(12, input_dim=8, activation='relu'))\n",
    "model.add(Dense(8, activation='relu'))\n",
    "model.add(Dense(1, activation='sigmoid'))\n",
    "# Compile model\n",
    "model.compile(loss='binary_crossentropy', optimizer='adam',\n",
    "metrics=['accuracy'])"
   ]
  },
  {
   "cell_type": "code",
   "execution_count": 16,
   "id": "762fac33",
   "metadata": {},
   "outputs": [
    {
     "name": "stdout",
     "output_type": "stream",
     "text": [
      "WARNING:tensorflow:From C:\\Users\\P2112729\\.conda\\envs\\gpu_env\\lib\\site-packages\\tensorflow\\python\\util\\tf_should_use.py:243: initialize_all_variables (from tensorflow.python.ops.variables) is deprecated and will be removed after 2017-03-02.\n",
      "Instructions for updating:\n",
      "Use `tf.global_variables_initializer` instead.\n",
      "0 [0.6216587] [0.05234602]\n",
      "20 [0.24989055] [0.22646873]\n",
      "40 [0.1433399] [0.27873892]\n",
      "60 [0.11253146] [0.2938525]\n",
      "80 [0.10362339] [0.2982225]\n",
      "100 [0.10104767] [0.29948607]\n",
      "120 [0.10030292] [0.29985142]\n",
      "140 [0.10008758] [0.29995707]\n",
      "160 [0.10002532] [0.29998758]\n",
      "180 [0.10000731] [0.29999644]\n",
      "200 [0.10000212] [0.29999897]\n"
     ]
    }
   ],
   "source": [
    "# Linear Regression using Tensorflow\n",
    "import tensorflow as tf\n",
    "# Force TF1.X compatibility mode when using TF 2.X library\n",
    "tf.compat.v1.disable_eager_execution() # need to disable eager in TF2.x\n",
    "import tensorflow.compat.v1 as tf\n",
    "import numpy as np\n",
    "# Create 100 phony x, y data points in NumPy, y = x * 0.1 + 0.3\n",
    "x_data = np.random.rand(100).astype(np.float32)\n",
    "y_data = x_data * 0.1 + 0.3\n",
    "# Try to find values for W and b that compute y_data = W * x_data + b\n",
    "# (We know that W should be 0.1 and b 0.3, but Tensorflow will\n",
    "# figure that out for us.)\n",
    "W = tf.Variable(tf.random_uniform([1], -1.0, 1.0))\n",
    "b = tf.Variable(tf.zeros([1]))\n",
    "y = W * x_data + b\n",
    "# Minimize the mean squared errors.\n",
    "loss = tf.reduce_mean(tf.square(y - y_data))\n",
    "optimizer = tf.train.GradientDescentOptimizer(0.5)\n",
    "train = optimizer.minimize(loss)\n",
    "# Before starting, initialize the variables. We will 'run' this first.\n",
    "init = tf.initialize_all_variables()\n",
    "# Launch the graph.\n",
    "sess = tf.Session()\n",
    "sess.run(init)\n",
    "# Fit the line.\n",
    "for step in range(201):\n",
    "    sess.run(train)\n",
    "    if step % 20 == 0:\n",
    "        print(step, sess.run(W), sess.run(b))\n",
    "# Learns best fit is W: [0.1], b: [0.3]\n"
   ]
  },
  {
   "cell_type": "code",
   "execution_count": 15,
   "id": "3d48bcd0",
   "metadata": {},
   "outputs": [
    {
     "name": "stdout",
     "output_type": "stream",
     "text": [
      "W: [-0.21344829], b: [0.6286822]\n",
      "W: [0.00899716], b: [0.3474465]\n",
      "W: [0.07827479], b: [0.31132695]\n",
      "W: [0.09481353], b: [0.3027041]\n",
      "W: [0.09876183], b: [0.30064556]\n",
      "W: [0.09970441], b: [0.30015412]\n",
      "W: [0.09992945], b: [0.3000368]\n",
      "W: [0.09998314], b: [0.3000088]\n",
      "W: [0.09999598], b: [0.3000021]\n",
      "W: [0.09999905], b: [0.30000052]\n"
     ]
    }
   ],
   "source": [
    "import tensorflow as tf\n",
    "import numpy as np\n",
    "# Create 100 phony x, y data points in NumPy, y = x * 0.1 + 0.3\n",
    "x_data = np.random.rand(100).astype(np.float32)\n",
    "y_data = x_data * 0.1 + 0.3\n",
    "# Try to find values for W and b that compute y_data = W * x_data + b\n",
    "# (We know that W should be 0.1 and b 0.3, but Tensorflow will\n",
    "# figure that out for us.)\n",
    "W = tf.Variable(tf.random.uniform(shape=(1,), minval=-1.0, maxval=1.0))\n",
    "b = tf.Variable(tf.zeros(shape=(1,)))\n",
    "# Minimize the mean squared errors.\n",
    "def cost():\n",
    "    y = W * x_data + b\n",
    "    loss = tf.reduce_mean(tf.square(y - y_data))\n",
    "    return loss\n",
    "# SGD is the equivalent for GradientDescentOptimizer\n",
    "optimizer = tf.optimizers.SGD(0.5)\n",
    "for e in range(200):\n",
    "    optimizer.minimize(cost, var_list=[W, b])\n",
    "    if e % 20 == 0:\n",
    "        print(f'W: {W.numpy()}, b: {b.numpy()}')\n",
    "# Learns best fit is W: [0.1], b: [0.3]"
   ]
  },
  {
   "cell_type": "code",
   "execution_count": 17,
   "id": "210105fb",
   "metadata": {},
   "outputs": [
    {
     "name": "stderr",
     "output_type": "stream",
     "text": [
      "UsageError: Line magic function `%tensorflow_version` not found.\n"
     ]
    }
   ],
   "source": [
    "%tensorflow_version 1.x\n",
    "import tensorflow as tf\n",
    "# Set up a linear classifier.\n",
    "classifier = tf.estimator.LinearClassifier()\n",
    "# Train the model on some example data.\n",
    "classifier.train(input_fn=train_input_fn, steps=2000)\n",
    "# Use it to predict.\n",
    "predictions = classifier.predict(input_fn=predict_input_fn)"
   ]
  }
 ],
 "metadata": {
  "kernelspec": {
   "display_name": "gpu_env",
   "language": "python",
   "name": "gpu_env"
  },
  "language_info": {
   "codemirror_mode": {
    "name": "ipython",
    "version": 3
   },
   "file_extension": ".py",
   "mimetype": "text/x-python",
   "name": "python",
   "nbconvert_exporter": "python",
   "pygments_lexer": "ipython3",
   "version": "3.8.13"
  }
 },
 "nbformat": 4,
 "nbformat_minor": 5
}
